{
 "cells": [
  {
   "cell_type": "markdown",
   "id": "241be8c4-334e-47a0-adb5-63ec6b0268eb",
   "metadata": {},
   "source": [
    "# SKLearn IterativeImputer example"
   ]
  },
  {
   "cell_type": "code",
   "execution_count": 1,
   "id": "bf18ed89-a29b-4763-84b0-41c2c3acf2d1",
   "metadata": {
    "tags": []
   },
   "outputs": [],
   "source": [
    "import matplotlib.pyplot as plt\n",
    "import numpy as np\n",
    "import pandas as pd\n",
    "from sklearn.experimental import enable_iterative_imputer # Need to enable while experiemental\n",
    "from sklearn.impute import IterativeImputer\n",
    "from sklearn.datasets import make_blobs"
   ]
  },
  {
   "cell_type": "code",
   "execution_count": 2,
   "id": "065d11eb-3827-4c56-afae-817881461f82",
   "metadata": {
    "tags": []
   },
   "outputs": [],
   "source": [
    "# Create data\n",
    "X, cluster = make_blobs(n_samples=250, centers=5, n_features=6, random_state=42, cluster_std=0.2)\n",
    "X = pd.DataFrame(X)\n",
    "# Turn col 0 into integers\n",
    "X[0] = (X[0]).astype(int)"
   ]
  },
  {
   "cell_type": "code",
   "execution_count": 3,
   "id": "e9e1cd49-2ac1-42dc-b876-92157aa34df4",
   "metadata": {
    "tags": []
   },
   "outputs": [
    {
     "data": {
      "text/html": [
       "<div>\n",
       "<style scoped>\n",
       "    .dataframe tbody tr th:only-of-type {\n",
       "        vertical-align: middle;\n",
       "    }\n",
       "\n",
       "    .dataframe tbody tr th {\n",
       "        vertical-align: top;\n",
       "    }\n",
       "\n",
       "    .dataframe thead th {\n",
       "        text-align: right;\n",
       "    }\n",
       "</style>\n",
       "<table border=\"1\" class=\"dataframe\">\n",
       "  <thead>\n",
       "    <tr style=\"text-align: right;\">\n",
       "      <th></th>\n",
       "      <th>0</th>\n",
       "      <th>1</th>\n",
       "      <th>2</th>\n",
       "      <th>3</th>\n",
       "      <th>4</th>\n",
       "      <th>5</th>\n",
       "    </tr>\n",
       "  </thead>\n",
       "  <tbody>\n",
       "    <tr>\n",
       "      <th>0</th>\n",
       "      <td>0</td>\n",
       "      <td>5.867072</td>\n",
       "      <td>-5.728483</td>\n",
       "      <td>0.396251</td>\n",
       "      <td>1.850362</td>\n",
       "      <td>-9.333359</td>\n",
       "    </tr>\n",
       "    <tr>\n",
       "      <th>1</th>\n",
       "      <td>-1</td>\n",
       "      <td>-4.420939</td>\n",
       "      <td>2.356538</td>\n",
       "      <td>-7.069888</td>\n",
       "      <td>-4.216620</td>\n",
       "      <td>-2.397622</td>\n",
       "    </tr>\n",
       "    <tr>\n",
       "      <th>2</th>\n",
       "      <td>-1</td>\n",
       "      <td>-4.754668</td>\n",
       "      <td>2.654733</td>\n",
       "      <td>-7.238041</td>\n",
       "      <td>-3.935470</td>\n",
       "      <td>-2.880744</td>\n",
       "    </tr>\n",
       "    <tr>\n",
       "      <th>3</th>\n",
       "      <td>-1</td>\n",
       "      <td>-3.760068</td>\n",
       "      <td>2.313445</td>\n",
       "      <td>-7.124114</td>\n",
       "      <td>-3.951050</td>\n",
       "      <td>-2.625005</td>\n",
       "    </tr>\n",
       "    <tr>\n",
       "      <th>4</th>\n",
       "      <td>6</td>\n",
       "      <td>-5.838594</td>\n",
       "      <td>-6.565922</td>\n",
       "      <td>-6.662881</td>\n",
       "      <td>-3.750521</td>\n",
       "      <td>0.509792</td>\n",
       "    </tr>\n",
       "  </tbody>\n",
       "</table>\n",
       "</div>"
      ],
      "text/plain": [
       "   0         1         2         3         4         5\n",
       "0  0  5.867072 -5.728483  0.396251  1.850362 -9.333359\n",
       "1 -1 -4.420939  2.356538 -7.069888 -4.216620 -2.397622\n",
       "2 -1 -4.754668  2.654733 -7.238041 -3.935470 -2.880744\n",
       "3 -1 -3.760068  2.313445 -7.124114 -3.951050 -2.625005\n",
       "4  6 -5.838594 -6.565922 -6.662881 -3.750521  0.509792"
      ]
     },
     "execution_count": 3,
     "metadata": {},
     "output_type": "execute_result"
    }
   ],
   "source": [
    "X.head()"
   ]
  },
  {
   "cell_type": "markdown",
   "id": "1d204007-6fa0-48a9-84bc-a5da8c9cbc7a",
   "metadata": {},
   "source": [
    "## Create copy and delete values"
   ]
  },
  {
   "cell_type": "code",
   "execution_count": 4,
   "id": "84d402dc-cad6-4d2d-a23a-13fc31005391",
   "metadata": {
    "tags": []
   },
   "outputs": [
    {
     "data": {
      "text/html": [
       "<div>\n",
       "<style scoped>\n",
       "    .dataframe tbody tr th:only-of-type {\n",
       "        vertical-align: middle;\n",
       "    }\n",
       "\n",
       "    .dataframe tbody tr th {\n",
       "        vertical-align: top;\n",
       "    }\n",
       "\n",
       "    .dataframe thead th {\n",
       "        text-align: right;\n",
       "    }\n",
       "</style>\n",
       "<table border=\"1\" class=\"dataframe\">\n",
       "  <thead>\n",
       "    <tr style=\"text-align: right;\">\n",
       "      <th></th>\n",
       "      <th>0</th>\n",
       "      <th>1</th>\n",
       "      <th>2</th>\n",
       "      <th>3</th>\n",
       "      <th>4</th>\n",
       "      <th>5</th>\n",
       "    </tr>\n",
       "  </thead>\n",
       "  <tbody>\n",
       "    <tr>\n",
       "      <th>0</th>\n",
       "      <td>0.0</td>\n",
       "      <td>5.867072</td>\n",
       "      <td>-5.728483</td>\n",
       "      <td>NaN</td>\n",
       "      <td>1.850362</td>\n",
       "      <td>-9.333359</td>\n",
       "    </tr>\n",
       "    <tr>\n",
       "      <th>1</th>\n",
       "      <td>-1.0</td>\n",
       "      <td>-4.420939</td>\n",
       "      <td>2.356538</td>\n",
       "      <td>-7.069888</td>\n",
       "      <td>-4.216620</td>\n",
       "      <td>-2.397622</td>\n",
       "    </tr>\n",
       "    <tr>\n",
       "      <th>2</th>\n",
       "      <td>-1.0</td>\n",
       "      <td>-4.754668</td>\n",
       "      <td>2.654733</td>\n",
       "      <td>NaN</td>\n",
       "      <td>-3.935470</td>\n",
       "      <td>-2.880744</td>\n",
       "    </tr>\n",
       "    <tr>\n",
       "      <th>3</th>\n",
       "      <td>-1.0</td>\n",
       "      <td>-3.760068</td>\n",
       "      <td>2.313445</td>\n",
       "      <td>-7.124114</td>\n",
       "      <td>-3.951050</td>\n",
       "      <td>-2.625005</td>\n",
       "    </tr>\n",
       "    <tr>\n",
       "      <th>4</th>\n",
       "      <td>6.0</td>\n",
       "      <td>-5.838594</td>\n",
       "      <td>-6.565922</td>\n",
       "      <td>-6.662881</td>\n",
       "      <td>-3.750521</td>\n",
       "      <td>0.509792</td>\n",
       "    </tr>\n",
       "  </tbody>\n",
       "</table>\n",
       "</div>"
      ],
      "text/plain": [
       "     0         1         2         3         4         5\n",
       "0  0.0  5.867072 -5.728483       NaN  1.850362 -9.333359\n",
       "1 -1.0 -4.420939  2.356538 -7.069888 -4.216620 -2.397622\n",
       "2 -1.0 -4.754668  2.654733       NaN -3.935470 -2.880744\n",
       "3 -1.0 -3.760068  2.313445 -7.124114 -3.951050 -2.625005\n",
       "4  6.0 -5.838594 -6.565922 -6.662881 -3.750521  0.509792"
      ]
     },
     "execution_count": 4,
     "metadata": {},
     "output_type": "execute_result"
    }
   ],
   "source": [
    "X_missing = X.copy()\n",
    "X_missing.loc[X_missing.sample(frac=0.30, random_state=42).index, 0] = np.nan\n",
    "X_missing.loc[X_missing.sample(frac=0.30, random_state=43).index, 3] = np.nan\n",
    "X_missing.head()"
   ]
  },
  {
   "cell_type": "markdown",
   "id": "2b7a0592-3e17-4356-9d9f-8a233dc66a4a",
   "metadata": {},
   "source": [
    "## Fit and impute"
   ]
  },
  {
   "cell_type": "code",
   "execution_count": 5,
   "id": "961d0595-8ddf-4711-b7b4-d9d25e0a46d6",
   "metadata": {
    "tags": []
   },
   "outputs": [
    {
     "data": {
      "text/html": [
       "<div>\n",
       "<style scoped>\n",
       "    .dataframe tbody tr th:only-of-type {\n",
       "        vertical-align: middle;\n",
       "    }\n",
       "\n",
       "    .dataframe tbody tr th {\n",
       "        vertical-align: top;\n",
       "    }\n",
       "\n",
       "    .dataframe thead th {\n",
       "        text-align: right;\n",
       "    }\n",
       "</style>\n",
       "<table border=\"1\" class=\"dataframe\">\n",
       "  <thead>\n",
       "    <tr style=\"text-align: right;\">\n",
       "      <th></th>\n",
       "      <th>0</th>\n",
       "      <th>1</th>\n",
       "      <th>2</th>\n",
       "      <th>3</th>\n",
       "      <th>4</th>\n",
       "      <th>5</th>\n",
       "    </tr>\n",
       "  </thead>\n",
       "  <tbody>\n",
       "    <tr>\n",
       "      <th>0</th>\n",
       "      <td>0.0</td>\n",
       "      <td>5.867072</td>\n",
       "      <td>-5.728483</td>\n",
       "      <td>0.273390</td>\n",
       "      <td>1.850362</td>\n",
       "      <td>-9.333359</td>\n",
       "    </tr>\n",
       "    <tr>\n",
       "      <th>1</th>\n",
       "      <td>-1.0</td>\n",
       "      <td>-4.420939</td>\n",
       "      <td>2.356538</td>\n",
       "      <td>-7.069888</td>\n",
       "      <td>-4.216620</td>\n",
       "      <td>-2.397622</td>\n",
       "    </tr>\n",
       "    <tr>\n",
       "      <th>2</th>\n",
       "      <td>-1.0</td>\n",
       "      <td>-4.754668</td>\n",
       "      <td>2.654733</td>\n",
       "      <td>-7.745869</td>\n",
       "      <td>-3.935470</td>\n",
       "      <td>-2.880744</td>\n",
       "    </tr>\n",
       "    <tr>\n",
       "      <th>3</th>\n",
       "      <td>-1.0</td>\n",
       "      <td>-3.760068</td>\n",
       "      <td>2.313445</td>\n",
       "      <td>-7.124114</td>\n",
       "      <td>-3.951050</td>\n",
       "      <td>-2.625005</td>\n",
       "    </tr>\n",
       "    <tr>\n",
       "      <th>4</th>\n",
       "      <td>6.0</td>\n",
       "      <td>-5.838594</td>\n",
       "      <td>-6.565922</td>\n",
       "      <td>-6.662881</td>\n",
       "      <td>-3.750521</td>\n",
       "      <td>0.509792</td>\n",
       "    </tr>\n",
       "  </tbody>\n",
       "</table>\n",
       "</div>"
      ],
      "text/plain": [
       "     0         1         2         3         4         5\n",
       "0  0.0  5.867072 -5.728483  0.273390  1.850362 -9.333359\n",
       "1 -1.0 -4.420939  2.356538 -7.069888 -4.216620 -2.397622\n",
       "2 -1.0 -4.754668  2.654733 -7.745869 -3.935470 -2.880744\n",
       "3 -1.0 -3.760068  2.313445 -7.124114 -3.951050 -2.625005\n",
       "4  6.0 -5.838594 -6.565922 -6.662881 -3.750521  0.509792"
      ]
     },
     "execution_count": 5,
     "metadata": {},
     "output_type": "execute_result"
    }
   ],
   "source": [
    "imp_mean = IterativeImputer(random_state=0)\n",
    "imp_mean.fit(X_missing)\n",
    "imputed = pd.DataFrame(imp_mean.transform(X_missing))\n",
    "imputed.head()"
   ]
  },
  {
   "cell_type": "code",
   "execution_count": 6,
   "id": "36513ac1-1edc-4ea4-92be-712d8a2169c1",
   "metadata": {},
   "outputs": [
    {
     "data": {
      "text/html": [
       "<div>\n",
       "<style scoped>\n",
       "    .dataframe tbody tr th:only-of-type {\n",
       "        vertical-align: middle;\n",
       "    }\n",
       "\n",
       "    .dataframe tbody tr th {\n",
       "        vertical-align: top;\n",
       "    }\n",
       "\n",
       "    .dataframe thead th {\n",
       "        text-align: right;\n",
       "    }\n",
       "</style>\n",
       "<table border=\"1\" class=\"dataframe\">\n",
       "  <thead>\n",
       "    <tr style=\"text-align: right;\">\n",
       "      <th></th>\n",
       "      <th>0</th>\n",
       "      <th>1</th>\n",
       "      <th>2</th>\n",
       "      <th>3</th>\n",
       "      <th>4</th>\n",
       "      <th>5</th>\n",
       "    </tr>\n",
       "  </thead>\n",
       "  <tbody>\n",
       "    <tr>\n",
       "      <th>0</th>\n",
       "      <td>0</td>\n",
       "      <td>5.867072</td>\n",
       "      <td>-5.728483</td>\n",
       "      <td>0.273390</td>\n",
       "      <td>1.850362</td>\n",
       "      <td>-9.333359</td>\n",
       "    </tr>\n",
       "    <tr>\n",
       "      <th>1</th>\n",
       "      <td>-1</td>\n",
       "      <td>-4.420939</td>\n",
       "      <td>2.356538</td>\n",
       "      <td>-7.069888</td>\n",
       "      <td>-4.216620</td>\n",
       "      <td>-2.397622</td>\n",
       "    </tr>\n",
       "    <tr>\n",
       "      <th>2</th>\n",
       "      <td>-1</td>\n",
       "      <td>-4.754668</td>\n",
       "      <td>2.654733</td>\n",
       "      <td>-7.745869</td>\n",
       "      <td>-3.935470</td>\n",
       "      <td>-2.880744</td>\n",
       "    </tr>\n",
       "    <tr>\n",
       "      <th>3</th>\n",
       "      <td>-1</td>\n",
       "      <td>-3.760068</td>\n",
       "      <td>2.313445</td>\n",
       "      <td>-7.124114</td>\n",
       "      <td>-3.951050</td>\n",
       "      <td>-2.625005</td>\n",
       "    </tr>\n",
       "    <tr>\n",
       "      <th>4</th>\n",
       "      <td>6</td>\n",
       "      <td>-5.838594</td>\n",
       "      <td>-6.565922</td>\n",
       "      <td>-6.662881</td>\n",
       "      <td>-3.750521</td>\n",
       "      <td>0.509792</td>\n",
       "    </tr>\n",
       "  </tbody>\n",
       "</table>\n",
       "</div>"
      ],
      "text/plain": [
       "   0         1         2         3         4         5\n",
       "0  0  5.867072 -5.728483  0.273390  1.850362 -9.333359\n",
       "1 -1 -4.420939  2.356538 -7.069888 -4.216620 -2.397622\n",
       "2 -1 -4.754668  2.654733 -7.745869 -3.935470 -2.880744\n",
       "3 -1 -3.760068  2.313445 -7.124114 -3.951050 -2.625005\n",
       "4  6 -5.838594 -6.565922 -6.662881 -3.750521  0.509792"
      ]
     },
     "execution_count": 6,
     "metadata": {},
     "output_type": "execute_result"
    }
   ],
   "source": [
    "# Turn col 0 into integers\n",
    "imputed[0] = (imputed[0]).astype(int)\n",
    "imputed.head()"
   ]
  },
  {
   "cell_type": "markdown",
   "id": "b6458f1d-3103-4faa-94f8-cff5494232a0",
   "metadata": {},
   "source": [
    "## Compare imputed to original"
   ]
  },
  {
   "cell_type": "code",
   "execution_count": 7,
   "id": "48baabe0-f098-406b-81a6-5561ce7d4c25",
   "metadata": {
    "tags": []
   },
   "outputs": [
    {
     "data": {
      "image/png": "[encoded data removed]",
      "text/plain": [
       "<Figure size 640x480 with 1 Axes>"
      ]
     },
     "metadata": {},
     "output_type": "display_data"
    }
   ],
   "source": [
    "\n",
    "\n",
    "# Col 0\n",
    "missing_ixd = X_missing[X_missing[0].isnull()].index.tolist()\n",
    "original_X = X.iloc[missing_ixd][0]\n",
    "imputed_X = imputed.iloc[missing_ixd][0]\n",
    "colors = cluster[missing_ixd]\n",
    "# Add jitter as this is an integer field\n",
    "jitter = np.random.random(len(original_X))\n",
    "original_X += jitter\n",
    "jitter = np.random.random(len(original_X))\n",
    "imputed_X += jitter\n",
    "\n",
    "fig = plt.figure()\n",
    "ax = fig.add_subplot()\n",
    "ax.scatter(original_X, imputed_X,c=colors, cmap='Set1')\n",
    "ax.set_xlabel('Original')\n",
    "ax.set_ylabel('Imputed')\n",
    "ax.grid()\n",
    "plt.show()"
   ]
  },
  {
   "cell_type": "code",
   "execution_count": 8,
   "id": "98283372-5254-499c-ae53-a6893230d258",
   "metadata": {},
   "outputs": [
    {
     "data": {
      "image/png": "[encoded data removed]",
      "text/plain": [
       "<Figure size 640x480 with 1 Axes>"
      ]
     },
     "metadata": {},
     "output_type": "display_data"
    }
   ],
   "source": [
    "# Col 3\n",
    "missing_ixd = X_missing[X_missing[3].isnull()].index.tolist()\n",
    "original_X = X.iloc[missing_ixd][3]\n",
    "imputed_X = imputed.iloc[missing_ixd][3]\n",
    "colors = cluster[missing_ixd]\n",
    "\n",
    "fig = plt.figure()\n",
    "ax = fig.add_subplot()\n",
    "ax.scatter(original_X, imputed_X,c=colors, cmap='Set1')\n",
    "ax.set_xlabel('Original')\n",
    "ax.set_ylabel('Imputed')\n",
    "ax.grid()\n",
    "plt.show()"
   ]
  }
 ],
 "metadata": {
  "kernelspec": {
   "display_name": "Python 3 (ipykernel)",
   "language": "python",
   "name": "python3"
  },
  "language_info": {
   "codemirror_mode": {
    "name": "ipython",
    "version": 3
   },
   "file_extension": ".py",
   "mimetype": "text/x-python",
   "name": "python",
   "nbconvert_exporter": "python",
   "pygments_lexer": "ipython3",
   "version": "3.11.4"
  }
 },
 "nbformat": 4,
 "nbformat_minor": 5
}
